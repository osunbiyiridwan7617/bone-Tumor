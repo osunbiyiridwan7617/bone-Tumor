{
 "cells": [
  {
   "cell_type": "code",
   "execution_count": 3,
   "id": "8e989ebc",
   "metadata": {},
   "outputs": [],
   "source": [
    "import pandas as pd\n",
    "import numpy as np\n",
    "from sklearn.model_selection import train_test_split\n",
    "from sklearn.preprocessing import StandardScaler\n",
    "\n",
    "from sklearn.linear_model import LogisticRegression\n",
    "from sklearn.metrics import confusion_matrix, classification_report\n",
    "import matplotlib.pyplot as plt\n",
    "import seaborn as sns\n"
   ]
  },
  {
   "cell_type": "code",
   "execution_count": 2,
   "id": "01c17fcf",
   "metadata": {},
   "outputs": [
    {
     "name": "stdout",
     "output_type": "stream",
     "text": [
      "Column names in the dataset: Index(['Patient ID', 'Sex', 'Age', 'Grade', 'Histological type', 'MSKCC type',\n",
      "       'Site of primary STS', 'Status (NED, AWD, D)', 'Treatment'],\n",
      "      dtype='object')\n",
      "Checking for missing values:\n",
      " Patient ID              0\n",
      "Sex                     0\n",
      "Age                     0\n",
      "Grade                   0\n",
      "Histological type       0\n",
      "MSKCC type              0\n",
      "Site of primary STS     0\n",
      "Status (NED, AWD, D)    0\n",
      "Treatment               0\n",
      "dtype: int64\n",
      "Columns after handling missing values: Index(['Patient ID', 'Sex', 'Age', 'Grade', 'Histological type', 'MSKCC type',\n",
      "       'Site of primary STS', 'Status (NED, AWD, D)', 'Treatment'],\n",
      "      dtype='object')\n",
      "Confusion Matrix:\n",
      " [[48  0  3]\n",
      " [17  0  1]\n",
      " [25  0  6]]\n",
      "\n",
      "Classification Report:\n",
      "               precision    recall  f1-score   support\n",
      "\n",
      "           0       0.53      0.94      0.68        51\n",
      "           1       0.00      0.00      0.00        18\n",
      "           2       0.60      0.19      0.29        31\n",
      "\n",
      "    accuracy                           0.54       100\n",
      "   macro avg       0.38      0.38      0.32       100\n",
      "weighted avg       0.46      0.54      0.44       100\n",
      "\n"
     ]
    },
    {
     "name": "stderr",
     "output_type": "stream",
     "text": [
      "C:\\Users\\USER\\AppData\\Local\\Programs\\Python\\Python313\\Lib\\site-packages\\sklearn\\metrics\\_classification.py:1565: UndefinedMetricWarning: Precision is ill-defined and being set to 0.0 in labels with no predicted samples. Use `zero_division` parameter to control this behavior.\n",
      "  _warn_prf(average, modifier, f\"{metric.capitalize()} is\", len(result))\n",
      "C:\\Users\\USER\\AppData\\Local\\Programs\\Python\\Python313\\Lib\\site-packages\\sklearn\\metrics\\_classification.py:1565: UndefinedMetricWarning: Precision is ill-defined and being set to 0.0 in labels with no predicted samples. Use `zero_division` parameter to control this behavior.\n",
      "  _warn_prf(average, modifier, f\"{metric.capitalize()} is\", len(result))\n",
      "C:\\Users\\USER\\AppData\\Local\\Programs\\Python\\Python313\\Lib\\site-packages\\sklearn\\metrics\\_classification.py:1565: UndefinedMetricWarning: Precision is ill-defined and being set to 0.0 in labels with no predicted samples. Use `zero_division` parameter to control this behavior.\n",
      "  _warn_prf(average, modifier, f\"{metric.capitalize()} is\", len(result))\n"
     ]
    },
    {
     "data": {
      "image/png": "[encoded data removed]",
      "text/plain": [
       "<Figure size 800x600 with 2 Axes>"
      ]
     },
     "metadata": {},
     "output_type": "display_data"
    }
   ],
   "source": [
    "# Step 1: Load the dataset\n",
    "df = pd.read_csv(\"bone_tumor_dataset.csv\")  # Replace with your actual dataset path\n",
    "\n",
    "# Step 2: Check the column names\n",
    "print(\"Column names in the dataset:\", df.columns)\n",
    "\n",
    "# Step 3: Data Preprocessing\n",
    "# Check for missing values\n",
    "print(\"Checking for missing values:\\n\", df.isnull().sum())\n",
    "\n",
    "\n",
    "# Handle missing values (only for numeric columns)\n",
    "numeric_columns = df.select_dtypes(include=['number']).columns  # Select only numeric columns\n",
    "df[numeric_columns] = df[numeric_columns].fillna(df[numeric_columns].mean())  # Replace missing values\n",
    "\n",
    "# Check column names again\n",
    "print(\"Columns after handling missing values:\", df.columns)\n",
    "\n",
    "# Encode 'Status (NED, AWD, D)' column\n",
    "df['Status (NED, AWD, D)'] = df['Status (NED, AWD, D)'].map({'NED': 0, 'AWD': 1, 'D': 2})\n",
    "\n",
    "# Step 4: Split dataset\n",
    "X = df.drop(columns=['Status (NED, AWD, D)'])  # Features\n",
    "y = df['Status (NED, AWD, D)']  # Target\n",
    "\n",
    "# Step 5: Keep only numeric columns\n",
    "X = X.select_dtypes(include=[np.number])\n",
    "\n",
    "# Step 6: Split into training and testing sets\n",
    "X_train, X_test, y_train, y_test = train_test_split(X, y, test_size=0.2, random_state=42)\n",
    "\n",
    "# Step 7: Feature Scaling\n",
    "scaler = StandardScaler()\n",
    "X_train = scaler.fit_transform(X_train)\n",
    "X_test = scaler.transform(X_test)\n",
    "\n",
    "# Step 8: Train Logistic Regression model\n",
    "model = LogisticRegression()\n",
    "model.fit(X_train, y_train)\n",
    "\n",
    "# Step 9: Make predictions\n",
    "y_pred = model.predict(X_test)\n",
    "\n",
    "# Step 10: Evaluate the model\n",
    "cm = confusion_matrix(y_test, y_pred)\n",
    "print(\"Confusion Matrix:\\n\", cm)\n",
    "print(\"\\nClassification Report:\\n\", classification_report(y_test, y_pred))\n",
    "\n",
    "# Step 11: Visualize confusion matrix\n",
    "plt.figure(figsize=(8, 6))\n",
    "sns.heatmap(cm, annot=True, fmt='d', cmap='Blues', xticklabels=['NED', 'AWD', 'D'], yticklabels=['NED', 'AWD', 'D'])\n",
    "plt.title('Confusion Matrix')\n",
    "plt.xlabel('Predicted')\n",
    "plt.ylabel('Actual')\n",
    "plt.show()\n"
   ]
  },
  {
   "cell_type": "code",
   "execution_count": null,
   "id": "bb69a995-9c69-4d8b-af55-58ae22fecc94",
   "metadata": {},
   "outputs": [],
   "source": []
  }
 ],
 "metadata": {
  "kernelspec": {
   "display_name": "Python 3 (ipykernel)",
   "language": "python",
   "name": "python3"
  },
  "language_info": {
   "codemirror_mode": {
    "name": "ipython",
    "version": 3
   },
   "file_extension": ".py",
   "mimetype": "text/x-python",
   "name": "python",
   "nbconvert_exporter": "python",
   "pygments_lexer": "ipython3",
   "version": "3.13.3"
  }
 },
 "nbformat": 4,
 "nbformat_minor": 5
}
